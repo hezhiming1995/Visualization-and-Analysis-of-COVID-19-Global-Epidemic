{
 "metadata": {
  "language_info": {
   "codemirror_mode": {
    "name": "ipython",
    "version": 3
   },
   "file_extension": ".py",
   "mimetype": "text/x-python",
   "name": "python",
   "nbconvert_exporter": "python",
   "pygments_lexer": "ipython3",
   "version": "3.8.5-final"
  },
  "orig_nbformat": 2,
  "kernelspec": {
   "name": "python3",
   "display_name": "Python 3",
   "language": "python"
  }
 },
 "nbformat": 4,
 "nbformat_minor": 2,
 "cells": [
  {
   "cell_type": "code",
   "execution_count": 1,
   "metadata": {},
   "outputs": [],
   "source": [
    "import requests as requests\n",
    "\n",
    "import datetime\n",
    "\n",
    "# 显示进度条， 不同的终端中可能加载显示的方式会有点不一样\n",
    "from tqdm import tqdm "
   ]
  },
  {
   "cell_type": "code",
   "execution_count": 2,
   "metadata": {},
   "outputs": [
    {
     "output_type": "stream",
     "name": "stderr",
     "text": [
      "Download completed!!!: : 1048576it [00:03, 267303.01it/s]\n"
     ]
    }
   ],
   "source": [
    "\n",
    "StrToday = datetime.datetime.today().strftime('%Y.%m.%d')\n",
    "url = \"https://github.91chifun.workers.dev//https://github.com/BlankerL/DXY-COVID-19-Data/releases/download/2021.01.13/DXYRumors.csv\"\n",
    "# url = \"https://github.91chifun.workers.dev//https://github.com/BlankerL/DXY-COVID-19-Data/releases/download/\"+StrToday+\"/DXYArea.csv\"    #网络文件地址\n",
    "# https://github.91chifun.workers.dev//https://github.com/BlankerL/DXY-COVID-19-Data/releases/download/2021.01.13/DXYArea.csv\n",
    "# https://img.ithome.com/newsuploadfiles/2020/10/20201010_100849_225.jpg\n",
    "\n",
    "res = requests.get(url, timeout = 5000, stream=True)\n",
    "file_size = int(res.headers.get('Content-Length')) # 获取视频的总大小\n",
    "res.encoding=\"UTF-8\" #直接用requests 返回的Response对象的encoding属性调整编码 \n",
    "pbar = tqdm(total=file_size)  # 设置进度条的长度\n",
    "with open(\"AAA.csv\",\"wb\") as f:  #wb：以二进制方式写入文件\n",
    "    for chunk in res.iter_content(1024 * 1024):\n",
    "        f.write(chunk) #r.content：以二进制方式读取文件\n",
    "        pbar.set_description('Downloading......')\n",
    "        pbar.update(1024 * 1024)  # 更新进度条长度\n",
    "    pbar.set_description('Download completed!!!')\n",
    "    pbar.close()"
   ]
  },
  {
   "cell_type": "code",
   "execution_count": null,
   "metadata": {},
   "outputs": [],
   "source": []
  }
 ]
}