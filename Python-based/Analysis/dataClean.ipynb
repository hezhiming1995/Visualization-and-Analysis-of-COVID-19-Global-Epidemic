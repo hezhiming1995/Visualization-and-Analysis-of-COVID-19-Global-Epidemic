{
 "metadata": {
  "language_info": {
   "codemirror_mode": {
    "name": "ipython",
    "version": 3
   },
   "file_extension": ".py",
   "mimetype": "text/x-python",
   "name": "python",
   "nbconvert_exporter": "python",
   "pygments_lexer": "ipython3",
   "version": "3.8.5-final"
  },
  "orig_nbformat": 2,
  "kernelspec": {
   "name": "Python 3.8.5 32-bit",
   "display_name": "Python 3.8.5 32-bit",
   "metadata": {
    "interpreter": {
     "hash": "c617fa10d1ba9d6a36573c3c4f7496e3bb2fbcdd4aeff3a055aadb58d26c8355"
    }
   }
  }
 },
 "nbformat": 4,
 "nbformat_minor": 2,
 "cells": [
  {
   "cell_type": "code",
   "execution_count": 7,
   "metadata": {},
   "outputs": [],
   "source": [
    "import pandas as pd\n",
    "df = pd.read_csv(\"/Data Analysis Project/Visualization and Analysis of COVID-19 Global Epidemic/Raw_data/DXYArea.csv\")"
   ]
  },
  {
   "source": [
    "# 查看数据情况\n",
    "df.info()\n",
    "\n",
    "# 重新确定一下缺失值的列\n",
    "df.isnull().any()\n",
    "\n",
    "# 获取含有空值的行数据\n",
    "df[df.isnull().T.any()]\n",
    "\n",
    "df.describe()\n",
    "# 查看数学统计中，一些值是否正常，比如最小值的正负性合理否？"
   ],
   "cell_type": "code",
   "metadata": {},
   "execution_count": 2,
   "outputs": [
    {
     "output_type": "stream",
     "name": "stdout",
     "text": [
      "<class 'pandas.core.frame.DataFrame'>\nRangeIndex: 337329 entries, 0 to 337328\nData columns (total 19 columns):\n #   Column                   Non-Null Count   Dtype  \n---  ------                   --------------   -----  \n 0   continentName            337285 non-null  object \n 1   continentEnglishName     337285 non-null  object \n 2   countryName              337329 non-null  object \n 3   countryEnglishName       318863 non-null  object \n 4   provinceName             337329 non-null  object \n 5   provinceEnglishName      318863 non-null  object \n 6   province_zipCode         337329 non-null  int64  \n 7   province_confirmedCount  337329 non-null  int64  \n 8   province_suspectedCount  337326 non-null  float64\n 9   province_curedCount      337329 non-null  int64  \n 10  province_deadCount       337329 non-null  int64  \n 11  updateTime               337329 non-null  object \n 12  cityName                 104854 non-null  object \n 13  cityEnglishName          100887 non-null  object \n 14  city_zipCode             103588 non-null  float64\n 15  city_confirmedCount      104854 non-null  float64\n 16  city_suspectedCount      104854 non-null  float64\n 17  city_curedCount          104854 non-null  float64\n 18  city_deadCount           104854 non-null  float64\ndtypes: float64(6), int64(4), object(9)\nmemory usage: 37.3+ MB\n"
     ]
    },
    {
     "output_type": "execute_result",
     "data": {
      "text/plain": [
       "       province_zipCode  province_confirmedCount  province_suspectedCount  \\\n",
       "count     337329.000000             3.373290e+05             337326.00000   \n",
       "mean      691080.446982             5.406740e+04                 23.69812   \n",
       "std       357361.229623             3.767389e+05                629.02511   \n",
       "min            0.000000             0.000000e+00                  0.00000   \n",
       "25%       410000.000000             2.680000e+02                  0.00000   \n",
       "50%       955001.000000             1.015000e+03                  0.00000   \n",
       "75%       971002.000000             8.791000e+03                  0.00000   \n",
       "max       990009.000000             8.338091e+06              23638.00000   \n",
       "\n",
       "       province_curedCount  province_deadCount   city_zipCode  \\\n",
       "count         3.373290e+05       337329.000000  103588.000000   \n",
       "mean          3.075597e+04         1997.658713  351181.075935   \n",
       "std           2.208640e+05        11941.309040  158968.394823   \n",
       "min           0.000000e+00            0.000000      -1.000000   \n",
       "25%           1.200000e+01            2.000000  230900.000000   \n",
       "50%           3.430000e+02           11.000000  410200.000000   \n",
       "75%           2.491000e+03          177.000000  445100.000000   \n",
       "max           6.795103e+06       222210.000000  659004.000000   \n",
       "\n",
       "       city_confirmedCount  city_suspectedCount  city_curedCount  \\\n",
       "count        104854.000000        104854.000000    104854.000000   \n",
       "mean            211.305453             0.200307       105.638574   \n",
       "std            2353.830950             5.593976      1450.013177   \n",
       "min               0.000000             0.000000         0.000000   \n",
       "25%               6.000000             0.000000         1.000000   \n",
       "50%              15.000000             0.000000         6.000000   \n",
       "75%              42.000000             0.000000        21.000000   \n",
       "max           50344.000000           386.000000     47300.000000   \n",
       "\n",
       "       city_deadCount  \n",
       "count   104854.000000  \n",
       "mean         7.571995  \n",
       "std        115.823946  \n",
       "min          0.000000  \n",
       "25%          0.000000  \n",
       "50%          0.000000  \n",
       "75%          0.000000  \n",
       "max       3869.000000  "
      ],
      "text/html": "<div>\n<style scoped>\n    .dataframe tbody tr th:only-of-type {\n        vertical-align: middle;\n    }\n\n    .dataframe tbody tr th {\n        vertical-align: top;\n    }\n\n    .dataframe thead th {\n        text-align: right;\n    }\n</style>\n<table border=\"1\" class=\"dataframe\">\n  <thead>\n    <tr style=\"text-align: right;\">\n      <th></th>\n      <th>province_zipCode</th>\n      <th>province_confirmedCount</th>\n      <th>province_suspectedCount</th>\n      <th>province_curedCount</th>\n      <th>province_deadCount</th>\n      <th>city_zipCode</th>\n      <th>city_confirmedCount</th>\n      <th>city_suspectedCount</th>\n      <th>city_curedCount</th>\n      <th>city_deadCount</th>\n    </tr>\n  </thead>\n  <tbody>\n    <tr>\n      <th>count</th>\n      <td>337329.000000</td>\n      <td>3.373290e+05</td>\n      <td>337326.00000</td>\n      <td>3.373290e+05</td>\n      <td>337329.000000</td>\n      <td>103588.000000</td>\n      <td>104854.000000</td>\n      <td>104854.000000</td>\n      <td>104854.000000</td>\n      <td>104854.000000</td>\n    </tr>\n    <tr>\n      <th>mean</th>\n      <td>691080.446982</td>\n      <td>5.406740e+04</td>\n      <td>23.69812</td>\n      <td>3.075597e+04</td>\n      <td>1997.658713</td>\n      <td>351181.075935</td>\n      <td>211.305453</td>\n      <td>0.200307</td>\n      <td>105.638574</td>\n      <td>7.571995</td>\n    </tr>\n    <tr>\n      <th>std</th>\n      <td>357361.229623</td>\n      <td>3.767389e+05</td>\n      <td>629.02511</td>\n      <td>2.208640e+05</td>\n      <td>11941.309040</td>\n      <td>158968.394823</td>\n      <td>2353.830950</td>\n      <td>5.593976</td>\n      <td>1450.013177</td>\n      <td>115.823946</td>\n    </tr>\n    <tr>\n      <th>min</th>\n      <td>0.000000</td>\n      <td>0.000000e+00</td>\n      <td>0.00000</td>\n      <td>0.000000e+00</td>\n      <td>0.000000</td>\n      <td>-1.000000</td>\n      <td>0.000000</td>\n      <td>0.000000</td>\n      <td>0.000000</td>\n      <td>0.000000</td>\n    </tr>\n    <tr>\n      <th>25%</th>\n      <td>410000.000000</td>\n      <td>2.680000e+02</td>\n      <td>0.00000</td>\n      <td>1.200000e+01</td>\n      <td>2.000000</td>\n      <td>230900.000000</td>\n      <td>6.000000</td>\n      <td>0.000000</td>\n      <td>1.000000</td>\n      <td>0.000000</td>\n    </tr>\n    <tr>\n      <th>50%</th>\n      <td>955001.000000</td>\n      <td>1.015000e+03</td>\n      <td>0.00000</td>\n      <td>3.430000e+02</td>\n      <td>11.000000</td>\n      <td>410200.000000</td>\n      <td>15.000000</td>\n      <td>0.000000</td>\n      <td>6.000000</td>\n      <td>0.000000</td>\n    </tr>\n    <tr>\n      <th>75%</th>\n      <td>971002.000000</td>\n      <td>8.791000e+03</td>\n      <td>0.00000</td>\n      <td>2.491000e+03</td>\n      <td>177.000000</td>\n      <td>445100.000000</td>\n      <td>42.000000</td>\n      <td>0.000000</td>\n      <td>21.000000</td>\n      <td>0.000000</td>\n    </tr>\n    <tr>\n      <th>max</th>\n      <td>990009.000000</td>\n      <td>8.338091e+06</td>\n      <td>23638.00000</td>\n      <td>6.795103e+06</td>\n      <td>222210.000000</td>\n      <td>659004.000000</td>\n      <td>50344.000000</td>\n      <td>386.000000</td>\n      <td>47300.000000</td>\n      <td>3869.000000</td>\n    </tr>\n  </tbody>\n</table>\n</div>"
     },
     "metadata": {},
     "execution_count": 2
    }
   ]
  },
  {
   "cell_type": "code",
   "execution_count": 8,
   "metadata": {},
   "outputs": [
    {
     "output_type": "stream",
     "name": "stdout",
     "text": [
      "<class 'pandas.core.frame.DataFrame'>\nRangeIndex: 337329 entries, 0 to 337328\nData columns (total 19 columns):\n #   Column                   Non-Null Count   Dtype         \n---  ------                   --------------   -----         \n 0   continentName            337285 non-null  object        \n 1   continentEnglishName     337285 non-null  object        \n 2   countryName              337329 non-null  object        \n 3   countryEnglishName       318863 non-null  object        \n 4   provinceName             337329 non-null  object        \n 5   provinceEnglishName      318863 non-null  object        \n 6   province_zipCode         337329 non-null  int64         \n 7   province_confirmedCount  337329 non-null  int64         \n 8   province_suspectedCount  337326 non-null  float64       \n 9   province_curedCount      337329 non-null  int64         \n 10  province_deadCount       337329 non-null  int64         \n 11  updateTime               337329 non-null  datetime64[ns]\n 12  cityName                 104854 non-null  object        \n 13  cityEnglishName          100887 non-null  object        \n 14  city_zipCode             103588 non-null  float64       \n 15  city_confirmedCount      104854 non-null  float64       \n 16  city_suspectedCount      104854 non-null  float64       \n 17  city_curedCount          104854 non-null  float64       \n 18  city_deadCount           104854 non-null  float64       \ndtypes: datetime64[ns](1), float64(6), int64(4), object(8)\nmemory usage: 38.6+ MB\n"
     ]
    }
   ],
   "source": [
    "# updateTime的类型是object类型，先对其进行转换\n",
    "df['updateTime'] = pd.to_datetime(df['updateTime'])\n",
    "\n",
    "# 修改updateTime的时间格式，normalize和date输出的格式都是2020-01-01，无法良好的剔除年份\n",
    "# 但是strftime性能极差，33w条数据用了2.8秒，normalize()函数只需要0.04秒，date需要0.15秒，但是都保留了年份\n",
    "df['updateTime'] = df['updateTime'].dt.normalize()\n",
    "# df['updateTime'] = df['updateTime'].dt.date\n",
    "# df['updateTime'] = df['updateTime'].apply(lambda x : x.strftime('%m-%d'))\n",
    "\n",
    "df.info()"
   ]
  },
  {
   "cell_type": "code",
   "execution_count": 9,
   "metadata": {},
   "outputs": [
    {
     "output_type": "execute_result",
     "data": {
      "text/plain": [
       "       continentName continentEnglishName countryName  \\\n",
       "0                北美洲        North America          美国   \n",
       "1                 欧洲               Europe          法国   \n",
       "2                 亚洲                 Asia          印度   \n",
       "3                 欧洲               Europe          英国   \n",
       "4                南美洲        South America          巴西   \n",
       "...              ...                  ...         ...   \n",
       "337311            亚洲                 Asia          中国   \n",
       "337319            亚洲                 Asia          中国   \n",
       "337325            亚洲                 Asia          中国   \n",
       "337326            亚洲                 Asia          中国   \n",
       "337327            亚洲                 Asia          中国   \n",
       "\n",
       "              countryEnglishName provinceName       provinceEnglishName  \\\n",
       "0       United States of America           美国  United States of America   \n",
       "1                         France           法国                    France   \n",
       "2                          India           印度                     India   \n",
       "3                 United Kingdom           英国            United Kingdom   \n",
       "4                         Brazil           巴西                    Brazil   \n",
       "...                          ...          ...                       ...   \n",
       "337311                     China          云南省                    Yunnan   \n",
       "337319                     China          吉林省                     Jilin   \n",
       "337325                     China           台湾                    Taiwan   \n",
       "337326                  Hongkong           香港                  Hongkong   \n",
       "337327                     China         黑龙江省              Heilongjiang   \n",
       "\n",
       "        province_zipCode  province_confirmedCount  province_suspectedCount  \\\n",
       "0                 971002                  8338091                      0.0   \n",
       "1                 961002                   957421                      0.0   \n",
       "2                 953003                  7706946                      0.0   \n",
       "3                 961007                   789229                      0.0   \n",
       "4                 973003                  5300649                      0.0   \n",
       "...                  ...                      ...                      ...   \n",
       "337311            530000                        1                      0.0   \n",
       "337319            220000                        0                      1.0   \n",
       "337325            710000                        1                      0.0   \n",
       "337326            810000                        0                    117.0   \n",
       "337327            230000                        0                      1.0   \n",
       "\n",
       "        province_curedCount  province_deadCount updateTime cityName  \\\n",
       "0                   3323354              222210 2020-10-22      NaN   \n",
       "1                    107652               34048 2020-10-22      NaN   \n",
       "2                   6795103              116616 2020-10-22      NaN   \n",
       "3                       539               44158 2020-10-22      NaN   \n",
       "4                   4721593              155459 2020-10-22      NaN   \n",
       "...                     ...                 ...        ...      ...   \n",
       "337311                    0                   0 2020-01-22      NaN   \n",
       "337319                    0                   0 2020-01-22      NaN   \n",
       "337325                    0                   0 2020-01-22      NaN   \n",
       "337326                    0                   0 2020-01-22      NaN   \n",
       "337327                    0                   0 2020-01-22      NaN   \n",
       "\n",
       "       cityEnglishName  city_zipCode  city_confirmedCount  \\\n",
       "0                  NaN           NaN                  NaN   \n",
       "1                  NaN           NaN                  NaN   \n",
       "2                  NaN           NaN                  NaN   \n",
       "3                  NaN           NaN                  NaN   \n",
       "4                  NaN           NaN                  NaN   \n",
       "...                ...           ...                  ...   \n",
       "337311             NaN           NaN                  NaN   \n",
       "337319             NaN           NaN                  NaN   \n",
       "337325             NaN           NaN                  NaN   \n",
       "337326             NaN           NaN                  NaN   \n",
       "337327             NaN           NaN                  NaN   \n",
       "\n",
       "        city_suspectedCount  city_curedCount  city_deadCount  \n",
       "0                       NaN              NaN             NaN  \n",
       "1                       NaN              NaN             NaN  \n",
       "2                       NaN              NaN             NaN  \n",
       "3                       NaN              NaN             NaN  \n",
       "4                       NaN              NaN             NaN  \n",
       "...                     ...              ...             ...  \n",
       "337311                  NaN              NaN             NaN  \n",
       "337319                  NaN              NaN             NaN  \n",
       "337325                  NaN              NaN             NaN  \n",
       "337326                  NaN              NaN             NaN  \n",
       "337327                  NaN              NaN             NaN  \n",
       "\n",
       "[47561 rows x 19 columns]"
      ],
      "text/html": "<div>\n<style scoped>\n    .dataframe tbody tr th:only-of-type {\n        vertical-align: middle;\n    }\n\n    .dataframe tbody tr th {\n        vertical-align: top;\n    }\n\n    .dataframe thead th {\n        text-align: right;\n    }\n</style>\n<table border=\"1\" class=\"dataframe\">\n  <thead>\n    <tr style=\"text-align: right;\">\n      <th></th>\n      <th>continentName</th>\n      <th>continentEnglishName</th>\n      <th>countryName</th>\n      <th>countryEnglishName</th>\n      <th>provinceName</th>\n      <th>provinceEnglishName</th>\n      <th>province_zipCode</th>\n      <th>province_confirmedCount</th>\n      <th>province_suspectedCount</th>\n      <th>province_curedCount</th>\n      <th>province_deadCount</th>\n      <th>updateTime</th>\n      <th>cityName</th>\n      <th>cityEnglishName</th>\n      <th>city_zipCode</th>\n      <th>city_confirmedCount</th>\n      <th>city_suspectedCount</th>\n      <th>city_curedCount</th>\n      <th>city_deadCount</th>\n    </tr>\n  </thead>\n  <tbody>\n    <tr>\n      <th>0</th>\n      <td>北美洲</td>\n      <td>North America</td>\n      <td>美国</td>\n      <td>United States of America</td>\n      <td>美国</td>\n      <td>United States of America</td>\n      <td>971002</td>\n      <td>8338091</td>\n      <td>0.0</td>\n      <td>3323354</td>\n      <td>222210</td>\n      <td>2020-10-22</td>\n      <td>NaN</td>\n      <td>NaN</td>\n      <td>NaN</td>\n      <td>NaN</td>\n      <td>NaN</td>\n      <td>NaN</td>\n      <td>NaN</td>\n    </tr>\n    <tr>\n      <th>1</th>\n      <td>欧洲</td>\n      <td>Europe</td>\n      <td>法国</td>\n      <td>France</td>\n      <td>法国</td>\n      <td>France</td>\n      <td>961002</td>\n      <td>957421</td>\n      <td>0.0</td>\n      <td>107652</td>\n      <td>34048</td>\n      <td>2020-10-22</td>\n      <td>NaN</td>\n      <td>NaN</td>\n      <td>NaN</td>\n      <td>NaN</td>\n      <td>NaN</td>\n      <td>NaN</td>\n      <td>NaN</td>\n    </tr>\n    <tr>\n      <th>2</th>\n      <td>亚洲</td>\n      <td>Asia</td>\n      <td>印度</td>\n      <td>India</td>\n      <td>印度</td>\n      <td>India</td>\n      <td>953003</td>\n      <td>7706946</td>\n      <td>0.0</td>\n      <td>6795103</td>\n      <td>116616</td>\n      <td>2020-10-22</td>\n      <td>NaN</td>\n      <td>NaN</td>\n      <td>NaN</td>\n      <td>NaN</td>\n      <td>NaN</td>\n      <td>NaN</td>\n      <td>NaN</td>\n    </tr>\n    <tr>\n      <th>3</th>\n      <td>欧洲</td>\n      <td>Europe</td>\n      <td>英国</td>\n      <td>United Kingdom</td>\n      <td>英国</td>\n      <td>United Kingdom</td>\n      <td>961007</td>\n      <td>789229</td>\n      <td>0.0</td>\n      <td>539</td>\n      <td>44158</td>\n      <td>2020-10-22</td>\n      <td>NaN</td>\n      <td>NaN</td>\n      <td>NaN</td>\n      <td>NaN</td>\n      <td>NaN</td>\n      <td>NaN</td>\n      <td>NaN</td>\n    </tr>\n    <tr>\n      <th>4</th>\n      <td>南美洲</td>\n      <td>South America</td>\n      <td>巴西</td>\n      <td>Brazil</td>\n      <td>巴西</td>\n      <td>Brazil</td>\n      <td>973003</td>\n      <td>5300649</td>\n      <td>0.0</td>\n      <td>4721593</td>\n      <td>155459</td>\n      <td>2020-10-22</td>\n      <td>NaN</td>\n      <td>NaN</td>\n      <td>NaN</td>\n      <td>NaN</td>\n      <td>NaN</td>\n      <td>NaN</td>\n      <td>NaN</td>\n    </tr>\n    <tr>\n      <th>...</th>\n      <td>...</td>\n      <td>...</td>\n      <td>...</td>\n      <td>...</td>\n      <td>...</td>\n      <td>...</td>\n      <td>...</td>\n      <td>...</td>\n      <td>...</td>\n      <td>...</td>\n      <td>...</td>\n      <td>...</td>\n      <td>...</td>\n      <td>...</td>\n      <td>...</td>\n      <td>...</td>\n      <td>...</td>\n      <td>...</td>\n      <td>...</td>\n    </tr>\n    <tr>\n      <th>337311</th>\n      <td>亚洲</td>\n      <td>Asia</td>\n      <td>中国</td>\n      <td>China</td>\n      <td>云南省</td>\n      <td>Yunnan</td>\n      <td>530000</td>\n      <td>1</td>\n      <td>0.0</td>\n      <td>0</td>\n      <td>0</td>\n      <td>2020-01-22</td>\n      <td>NaN</td>\n      <td>NaN</td>\n      <td>NaN</td>\n      <td>NaN</td>\n      <td>NaN</td>\n      <td>NaN</td>\n      <td>NaN</td>\n    </tr>\n    <tr>\n      <th>337319</th>\n      <td>亚洲</td>\n      <td>Asia</td>\n      <td>中国</td>\n      <td>China</td>\n      <td>吉林省</td>\n      <td>Jilin</td>\n      <td>220000</td>\n      <td>0</td>\n      <td>1.0</td>\n      <td>0</td>\n      <td>0</td>\n      <td>2020-01-22</td>\n      <td>NaN</td>\n      <td>NaN</td>\n      <td>NaN</td>\n      <td>NaN</td>\n      <td>NaN</td>\n      <td>NaN</td>\n      <td>NaN</td>\n    </tr>\n    <tr>\n      <th>337325</th>\n      <td>亚洲</td>\n      <td>Asia</td>\n      <td>中国</td>\n      <td>China</td>\n      <td>台湾</td>\n      <td>Taiwan</td>\n      <td>710000</td>\n      <td>1</td>\n      <td>0.0</td>\n      <td>0</td>\n      <td>0</td>\n      <td>2020-01-22</td>\n      <td>NaN</td>\n      <td>NaN</td>\n      <td>NaN</td>\n      <td>NaN</td>\n      <td>NaN</td>\n      <td>NaN</td>\n      <td>NaN</td>\n    </tr>\n    <tr>\n      <th>337326</th>\n      <td>亚洲</td>\n      <td>Asia</td>\n      <td>中国</td>\n      <td>Hongkong</td>\n      <td>香港</td>\n      <td>Hongkong</td>\n      <td>810000</td>\n      <td>0</td>\n      <td>117.0</td>\n      <td>0</td>\n      <td>0</td>\n      <td>2020-01-22</td>\n      <td>NaN</td>\n      <td>NaN</td>\n      <td>NaN</td>\n      <td>NaN</td>\n      <td>NaN</td>\n      <td>NaN</td>\n      <td>NaN</td>\n    </tr>\n    <tr>\n      <th>337327</th>\n      <td>亚洲</td>\n      <td>Asia</td>\n      <td>中国</td>\n      <td>China</td>\n      <td>黑龙江省</td>\n      <td>Heilongjiang</td>\n      <td>230000</td>\n      <td>0</td>\n      <td>1.0</td>\n      <td>0</td>\n      <td>0</td>\n      <td>2020-01-22</td>\n      <td>NaN</td>\n      <td>NaN</td>\n      <td>NaN</td>\n      <td>NaN</td>\n      <td>NaN</td>\n      <td>NaN</td>\n      <td>NaN</td>\n    </tr>\n  </tbody>\n</table>\n<p>47561 rows × 19 columns</p>\n</div>"
     },
     "metadata": {},
     "execution_count": 9
    }
   ],
   "source": [
    "# 数据清洗\n",
    "# 根据疫情每日更新时间，和省份这两列来判断重复值，并删除重复值，仅保留第一列数据\n",
    "df.drop_duplicates(subset=['updateTime','provinceName'],keep='first',inplace=True)\n",
    "df"
   ]
  },
  {
   "cell_type": "code",
   "execution_count": 15,
   "metadata": {},
   "outputs": [],
   "source": [
    "# 输出Excel文件进行校验\n",
    "df.to_excel('./out.xlsx')"
   ]
  },
  {
   "cell_type": "code",
   "execution_count": 12,
   "metadata": {},
   "outputs": [
    {
     "output_type": "stream",
     "name": "stdout",
     "text": [
      "<class 'pandas.core.frame.DataFrame'>\nInt64Index: 47561 entries, 0 to 337327\nData columns (total 19 columns):\n #   Column                   Non-Null Count  Dtype         \n---  ------                   --------------  -----         \n 0   continentName            47523 non-null  object        \n 1   continentEnglishName     47523 non-null  object        \n 2   countryName              47561 non-null  object        \n 3   countryEnglishName       42896 non-null  object        \n 4   provinceName             47561 non-null  object        \n 5   provinceEnglishName      42896 non-null  object        \n 6   province_zipCode         47561 non-null  int64         \n 7   province_confirmedCount  47561 non-null  int64         \n 8   province_suspectedCount  47560 non-null  float64       \n 9   province_curedCount      47561 non-null  int64         \n 10  province_deadCount       47561 non-null  int64         \n 11  updateTime               47561 non-null  datetime64[ns]\n 12  cityName                 3214 non-null   object        \n 13  cityEnglishName          2096 non-null   object        \n 14  city_zipCode             3202 non-null   float64       \n 15  city_confirmedCount      3214 non-null   float64       \n 16  city_suspectedCount      3214 non-null   float64       \n 17  city_curedCount          3214 non-null   float64       \n 18  city_deadCount           3214 non-null   float64       \ndtypes: datetime64[ns](1), float64(6), int64(4), object(8)\nmemory usage: 5.8+ MB\n"
     ]
    },
    {
     "output_type": "execute_result",
     "data": {
      "text/plain": [
       "continentName               True\n",
       "continentEnglishName        True\n",
       "countryName                False\n",
       "countryEnglishName          True\n",
       "provinceName               False\n",
       "provinceEnglishName         True\n",
       "province_zipCode           False\n",
       "province_confirmedCount    False\n",
       "province_suspectedCount     True\n",
       "province_curedCount        False\n",
       "province_deadCount         False\n",
       "updateTime                 False\n",
       "cityName                    True\n",
       "cityEnglishName             True\n",
       "city_zipCode                True\n",
       "city_confirmedCount         True\n",
       "city_suspectedCount         True\n",
       "city_curedCount             True\n",
       "city_deadCount              True\n",
       "dtype: bool"
      ]
     },
     "metadata": {},
     "execution_count": 12
    }
   ],
   "source": [
    "# 清洗后的数据，查看空值\n",
    "df.info()\n",
    "df.isnull().any()"
   ]
  },
  {
   "cell_type": "code",
   "execution_count": 24,
   "metadata": {},
   "outputs": [
    {
     "output_type": "execute_result",
     "data": {
      "text/plain": [
       "(67            吉尔吉斯斯坦\n",
       " 71                黑山\n",
       " 92             瓜德罗普岛\n",
       " 107              阿鲁巴\n",
       " 109              马约特\n",
       " 112           赞比亚共和国\n",
       " 125              佛得角\n",
       " 143              南苏丹\n",
       " 145          美属维尔京群岛\n",
       " 148            刚果（布）\n",
       " 151            荷属圣马丁\n",
       " 153        特克斯和凯科斯群岛\n",
       " 166              百慕大\n",
       " 168          荷兰加勒比地区\n",
       " 243             库拉索岛\n",
       " 330            几内亚比绍\n",
       " 337            也门共和国\n",
       " 346           布隆迪共和国\n",
       " 348              科摩罗\n",
       " 352            厄立特里亚\n",
       " 365        北马里亚纳群岛联邦\n",
       " 817           圣巴泰勒米岛\n",
       " 818          英属维尔京群岛\n",
       " 821             多米尼克\n",
       " 822             格林那达\n",
       " 1096             东帝汶\n",
       " 1099             格陵兰\n",
       " 5188          新喀里多尼亚\n",
       " 5192      圣皮埃尔和密克隆群岛\n",
       " 17604        圣其茨和尼维斯\n",
       " 82692          蒙特塞拉特\n",
       " 87201          福克兰群岛\n",
       " 87211            安圭拉\n",
       " 243212           科索沃\n",
       " Name: provinceName, dtype: object,\n",
       " 34)"
      ]
     },
     "metadata": {},
     "execution_count": 24
    }
   ],
   "source": [
    "# 查看需要补全英文名的国家，绘制疫情地图时需要，一共需要收集补全34个国家英文名\n",
    "df1 = df[df['provinceEnglishName'].isnull().values==True]\n",
    "df1.drop_duplicates(subset=['provinceName'],keep='first',inplace=True)\n",
    "df1['provinceName'],df1.shape[0]"
   ]
  },
  {
   "cell_type": "code",
   "execution_count": null,
   "metadata": {},
   "outputs": [],
   "source": []
  }
 ]
}