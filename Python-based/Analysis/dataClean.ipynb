{
 "metadata": {
  "language_info": {
   "codemirror_mode": {
    "name": "ipython",
    "version": 3
   },
   "file_extension": ".py",
   "mimetype": "text/x-python",
   "name": "python",
   "nbconvert_exporter": "python",
   "pygments_lexer": "ipython3",
   "version": "3.9.1-final"
  },
  "orig_nbformat": 2,
  "kernelspec": {
   "name": "python3",
   "display_name": "Python 3.9.1 64-bit",
   "metadata": {
    "interpreter": {
     "hash": "341724ec50a83a2c6641f59258cb39c230341559dec28aa9803fa734a8367827"
    }
   }
  }
 },
 "nbformat": 4,
 "nbformat_minor": 2,
 "cells": [
  {
   "cell_type": "code",
   "execution_count": null,
   "metadata": {},
   "outputs": [],
   "source": [
    "### 第二步：获取资源"
   ]
  },
  {
   "source": [
    "### 2.1 在线下载Github上BlankerL整合的疫情数据资源\n",
    "\n",
    "    - 每日更新，最新的疫情数据  \n",
    "    - requests库进行下载  \n",
    "    - tqdm库下载进度条展示  "
   ],
   "cell_type": "markdown",
   "metadata": {}
  },
  {
   "cell_type": "code",
   "execution_count": null,
   "metadata": {},
   "outputs": [],
   "source": []
  },
  {
   "source": [
    "# 导包\n",
    "import requests as requests\n",
    "import datetime\n",
    "from tqdm import tqdm # 显示进度条， 不同的终端中可能加载显示的方式会有点不一样\n"
   ],
   "cell_type": "code",
   "metadata": {},
   "execution_count": 4,
   "outputs": []
  },
  {
   "cell_type": "code",
   "execution_count": null,
   "metadata": {},
   "outputs": [],
   "source": [
    "# DXYArea.csv每日3-5:00am更新，获取当日的下载链接（且当日的新生成的数据作者有帮我们做js-proxy加速下载）\n",
    "StrToday = datetime.datetime.today().strftime('%Y.%m.%d')\n",
    "url = \"https://github.91chifun.workers.dev//https://github.com/BlankerL/DXY-COVID-19-Data/releases/download/\"+StrToday+\"/DXYArea.csv\"       # 最新疫情文件文件地址\n",
    "# url = \"https://github.91chifun.workers.dev//https://github.com/BlankerL/DXY-COVID-19-Data/releases/download/2021.01.13/DXYRumors.csv\"     # 用于测试脚本是否可行，能下载\n",
    "# url = \"https://img.ithome.com/newsuploadfiles/2020/10/20201010_100849_225.jpg\"                                                            # 用于测试脚本是否可行，能下载\n",
    "\n",
    "res = requests.get(url, timeout = 5000, stream=True)            # 大文件以流的模式进行下载\n",
    "file_size = int(res.headers.get('Content-Length'))              # 获取视频的总大小\n",
    "res.encoding=\"UTF-8\"                                            # 直接用requests 返回的Response对象的encoding属性调整编码 \n",
    "pbar = tqdm(total=file_size)                                    # 设置进度条的长度\n",
    "with open(\"AAA.csv\",\"wb\") as f:                                 # wb：以二进制方式写入文件\n",
    "    for chunk in res.iter_content(1024 * 1024):                 # 变量名定义成：chunk，是因为采用HTTP协议chunk编码(分块传输编码)\n",
    "        f.write(chunk)                                          # r.content：以二进制方式读取文件\n",
    "        pbar.set_description('Downloading......')               \n",
    "        pbar.update(1024 * 1024)                                # 更新进度条长度\n",
    "    pbar.set_description('Download completed!!!')               # 下载完提示\n",
    "    pbar.close()                                                # 下载完，关闭pbar，不关闭下载打印进度条会出现：嵌套打印"
   ]
  },
  {
   "source": [
    "### <font color=green>为了演示方便，本地已经下载好了，直接使用pandas库读取csv文件</font>\n"
   ],
   "cell_type": "code",
   "metadata": {},
   "execution_count": null,
   "outputs": []
  },
  {
   "cell_type": "code",
   "execution_count": 1,
   "metadata": {},
   "outputs": [],
   "source": [
    "import pandas as pd\n",
    "df = pd.read_csv(\"\\GitHub\\Visualization-and-Analysis-of-COVID-19-Global-Epidemic\\Raw_data\\DXYArea.csv\")"
   ]
  },
  {
   "source": [
    "# 查看数据情况\n",
    "df.info()\n",
    "\n",
    "# 重新确定一下缺失值的列\n",
    "df.isnull().any()\n",
    "\n",
    "# 获取含有空值的行数据\n",
    "df[df.isnull().T.any()]\n",
    "\n",
    "df.describe()\n",
    "# 查看数学统计中，一些值是否正常，比如最小值的正负性合理否？"
   ],
   "cell_type": "code",
   "metadata": {},
   "execution_count": 2,
   "outputs": [
    {
     "output_type": "stream",
     "name": "stdout",
     "text": [
      "<class 'pandas.core.frame.DataFrame'>\nRangeIndex: 410436 entries, 0 to 410435\nData columns (total 19 columns):\n #   Column                   Non-Null Count   Dtype  \n---  ------                   --------------   -----  \n 0   continentName            410392 non-null  object \n 1   continentEnglishName     410392 non-null  object \n 2   countryName              410436 non-null  object \n 3   countryEnglishName       385806 non-null  object \n 4   provinceName             410436 non-null  object \n 5   provinceEnglishName      385806 non-null  object \n 6   province_zipCode         410436 non-null  int64  \n 7   province_confirmedCount  410436 non-null  int64  \n 8   province_suspectedCount  410433 non-null  float64\n 9   province_curedCount      410436 non-null  int64  \n 10  province_deadCount       410436 non-null  int64  \n 11  cityName                 120031 non-null  object \n 12  cityEnglishName          114970 non-null  object \n 13  city_zipCode             118765 non-null  float64\n 14  city_confirmedCount      120031 non-null  float64\n 15  city_suspectedCount      120031 non-null  float64\n 16  city_curedCount          120031 non-null  float64\n 17  city_deadCount           120031 non-null  float64\n 18  updateTime               410436 non-null  object \ndtypes: float64(6), int64(4), object(9)\nmemory usage: 59.5+ MB\n"
     ]
    }
   ]
  },
  {
   "cell_type": "code",
   "execution_count": 2,
   "metadata": {},
   "outputs": [
    {
     "output_type": "stream",
     "name": "stdout",
     "text": [
      "<class 'pandas.core.frame.DataFrame'>\nRangeIndex: 337329 entries, 0 to 337328\nData columns (total 19 columns):\n #   Column                   Non-Null Count   Dtype         \n---  ------                   --------------   -----         \n 0   continentName            337285 non-null  object        \n 1   continentEnglishName     337285 non-null  object        \n 2   countryName              337329 non-null  object        \n 3   countryEnglishName       318863 non-null  object        \n 4   provinceName             337329 non-null  object        \n 5   provinceEnglishName      318863 non-null  object        \n 6   province_zipCode         337329 non-null  int64         \n 7   province_confirmedCount  337329 non-null  int64         \n 8   province_suspectedCount  337326 non-null  float64       \n 9   province_curedCount      337329 non-null  int64         \n 10  province_deadCount       337329 non-null  int64         \n 11  updateTime               337329 non-null  datetime64[ns]\n 12  cityName                 104854 non-null  object        \n 13  cityEnglishName          100887 non-null  object        \n 14  city_zipCode             103588 non-null  float64       \n 15  city_confirmedCount      104854 non-null  float64       \n 16  city_suspectedCount      104854 non-null  float64       \n 17  city_curedCount          104854 non-null  float64       \n 18  city_deadCount           104854 non-null  float64       \ndtypes: datetime64[ns](1), float64(6), int64(4), object(8)\nmemory usage: 48.9+ MB\n"
     ]
    }
   ],
   "source": [
    "# updateTime的类型是object类型，先对其进行转换\n",
    "df['updateTime'] = pd.to_datetime(df['updateTime'],format='%Y-%m-%d')\n",
    "# 修改updateTime的时间格式，normalize和date输出的格式都是2020-01-01，无法良好的剔除年份\n",
    "# 但是strftime性能极差，33w条数据用了2.8秒，normalize()函数只需要0.04秒，date需要0.15秒，但是都保留了年份\n",
    "df['updateTime'] = df['updateTime'].dt.normalize()\n",
    "# df['updateTime'] = df['updateTime'].dt.date\n",
    "# df['updateTime'] = df['updateTime'].apply(lambda x : x.strftime('%m-%d'))\n",
    "\n",
    "df.info()"
   ]
  },
  {
   "cell_type": "code",
   "execution_count": 3,
   "metadata": {},
   "outputs": [
    {
     "output_type": "execute_result",
     "data": {
      "text/plain": [
       "       continentName continentEnglishName countryName  \\\n",
       "0                北美洲        North America          美国   \n",
       "1                 欧洲               Europe          法国   \n",
       "2                 亚洲                 Asia          印度   \n",
       "3                 欧洲               Europe          英国   \n",
       "4                南美洲        South America          巴西   \n",
       "...              ...                  ...         ...   \n",
       "337311            亚洲                 Asia          中国   \n",
       "337319            亚洲                 Asia          中国   \n",
       "337325            亚洲                 Asia          中国   \n",
       "337326            亚洲                 Asia          中国   \n",
       "337327            亚洲                 Asia          中国   \n",
       "\n",
       "              countryEnglishName provinceName       provinceEnglishName  \\\n",
       "0       United States of America           美国  United States of America   \n",
       "1                         France           法国                    France   \n",
       "2                          India           印度                     India   \n",
       "3                 United Kingdom           英国            United Kingdom   \n",
       "4                         Brazil           巴西                    Brazil   \n",
       "...                          ...          ...                       ...   \n",
       "337311                     China          云南省                    Yunnan   \n",
       "337319                     China          吉林省                     Jilin   \n",
       "337325                     China           台湾                    Taiwan   \n",
       "337326                  Hongkong           香港                  Hongkong   \n",
       "337327                     China         黑龙江省              Heilongjiang   \n",
       "\n",
       "        province_zipCode  province_confirmedCount  province_suspectedCount  \\\n",
       "0                 971002                  8338091                      0.0   \n",
       "1                 961002                   957421                      0.0   \n",
       "2                 953003                  7706946                      0.0   \n",
       "3                 961007                   789229                      0.0   \n",
       "4                 973003                  5300649                      0.0   \n",
       "...                  ...                      ...                      ...   \n",
       "337311            530000                        1                      0.0   \n",
       "337319            220000                        0                      1.0   \n",
       "337325            710000                        1                      0.0   \n",
       "337326            810000                        0                    117.0   \n",
       "337327            230000                        0                      1.0   \n",
       "\n",
       "        province_curedCount  province_deadCount updateTime cityName  \\\n",
       "0                   3323354              222210 2020-10-22      NaN   \n",
       "1                    107652               34048 2020-10-22      NaN   \n",
       "2                   6795103              116616 2020-10-22      NaN   \n",
       "3                       539               44158 2020-10-22      NaN   \n",
       "4                   4721593              155459 2020-10-22      NaN   \n",
       "...                     ...                 ...        ...      ...   \n",
       "337311                    0                   0 2020-01-22      NaN   \n",
       "337319                    0                   0 2020-01-22      NaN   \n",
       "337325                    0                   0 2020-01-22      NaN   \n",
       "337326                    0                   0 2020-01-22      NaN   \n",
       "337327                    0                   0 2020-01-22      NaN   \n",
       "\n",
       "       cityEnglishName  city_zipCode  city_confirmedCount  \\\n",
       "0                  NaN           NaN                  NaN   \n",
       "1                  NaN           NaN                  NaN   \n",
       "2                  NaN           NaN                  NaN   \n",
       "3                  NaN           NaN                  NaN   \n",
       "4                  NaN           NaN                  NaN   \n",
       "...                ...           ...                  ...   \n",
       "337311             NaN           NaN                  NaN   \n",
       "337319             NaN           NaN                  NaN   \n",
       "337325             NaN           NaN                  NaN   \n",
       "337326             NaN           NaN                  NaN   \n",
       "337327             NaN           NaN                  NaN   \n",
       "\n",
       "        city_suspectedCount  city_curedCount  city_deadCount  \n",
       "0                       NaN              NaN             NaN  \n",
       "1                       NaN              NaN             NaN  \n",
       "2                       NaN              NaN             NaN  \n",
       "3                       NaN              NaN             NaN  \n",
       "4                       NaN              NaN             NaN  \n",
       "...                     ...              ...             ...  \n",
       "337311                  NaN              NaN             NaN  \n",
       "337319                  NaN              NaN             NaN  \n",
       "337325                  NaN              NaN             NaN  \n",
       "337326                  NaN              NaN             NaN  \n",
       "337327                  NaN              NaN             NaN  \n",
       "\n",
       "[47561 rows x 19 columns]"
      ],
      "text/html": "<div>\n<style scoped>\n    .dataframe tbody tr th:only-of-type {\n        vertical-align: middle;\n    }\n\n    .dataframe tbody tr th {\n        vertical-align: top;\n    }\n\n    .dataframe thead th {\n        text-align: right;\n    }\n</style>\n<table border=\"1\" class=\"dataframe\">\n  <thead>\n    <tr style=\"text-align: right;\">\n      <th></th>\n      <th>continentName</th>\n      <th>continentEnglishName</th>\n      <th>countryName</th>\n      <th>countryEnglishName</th>\n      <th>provinceName</th>\n      <th>provinceEnglishName</th>\n      <th>province_zipCode</th>\n      <th>province_confirmedCount</th>\n      <th>province_suspectedCount</th>\n      <th>province_curedCount</th>\n      <th>province_deadCount</th>\n      <th>updateTime</th>\n      <th>cityName</th>\n      <th>cityEnglishName</th>\n      <th>city_zipCode</th>\n      <th>city_confirmedCount</th>\n      <th>city_suspectedCount</th>\n      <th>city_curedCount</th>\n      <th>city_deadCount</th>\n    </tr>\n  </thead>\n  <tbody>\n    <tr>\n      <th>0</th>\n      <td>北美洲</td>\n      <td>North America</td>\n      <td>美国</td>\n      <td>United States of America</td>\n      <td>美国</td>\n      <td>United States of America</td>\n      <td>971002</td>\n      <td>8338091</td>\n      <td>0.0</td>\n      <td>3323354</td>\n      <td>222210</td>\n      <td>2020-10-22</td>\n      <td>NaN</td>\n      <td>NaN</td>\n      <td>NaN</td>\n      <td>NaN</td>\n      <td>NaN</td>\n      <td>NaN</td>\n      <td>NaN</td>\n    </tr>\n    <tr>\n      <th>1</th>\n      <td>欧洲</td>\n      <td>Europe</td>\n      <td>法国</td>\n      <td>France</td>\n      <td>法国</td>\n      <td>France</td>\n      <td>961002</td>\n      <td>957421</td>\n      <td>0.0</td>\n      <td>107652</td>\n      <td>34048</td>\n      <td>2020-10-22</td>\n      <td>NaN</td>\n      <td>NaN</td>\n      <td>NaN</td>\n      <td>NaN</td>\n      <td>NaN</td>\n      <td>NaN</td>\n      <td>NaN</td>\n    </tr>\n    <tr>\n      <th>2</th>\n      <td>亚洲</td>\n      <td>Asia</td>\n      <td>印度</td>\n      <td>India</td>\n      <td>印度</td>\n      <td>India</td>\n      <td>953003</td>\n      <td>7706946</td>\n      <td>0.0</td>\n      <td>6795103</td>\n      <td>116616</td>\n      <td>2020-10-22</td>\n      <td>NaN</td>\n      <td>NaN</td>\n      <td>NaN</td>\n      <td>NaN</td>\n      <td>NaN</td>\n      <td>NaN</td>\n      <td>NaN</td>\n    </tr>\n    <tr>\n      <th>3</th>\n      <td>欧洲</td>\n      <td>Europe</td>\n      <td>英国</td>\n      <td>United Kingdom</td>\n      <td>英国</td>\n      <td>United Kingdom</td>\n      <td>961007</td>\n      <td>789229</td>\n      <td>0.0</td>\n      <td>539</td>\n      <td>44158</td>\n      <td>2020-10-22</td>\n      <td>NaN</td>\n      <td>NaN</td>\n      <td>NaN</td>\n      <td>NaN</td>\n      <td>NaN</td>\n      <td>NaN</td>\n      <td>NaN</td>\n    </tr>\n    <tr>\n      <th>4</th>\n      <td>南美洲</td>\n      <td>South America</td>\n      <td>巴西</td>\n      <td>Brazil</td>\n      <td>巴西</td>\n      <td>Brazil</td>\n      <td>973003</td>\n      <td>5300649</td>\n      <td>0.0</td>\n      <td>4721593</td>\n      <td>155459</td>\n      <td>2020-10-22</td>\n      <td>NaN</td>\n      <td>NaN</td>\n      <td>NaN</td>\n      <td>NaN</td>\n      <td>NaN</td>\n      <td>NaN</td>\n      <td>NaN</td>\n    </tr>\n    <tr>\n      <th>...</th>\n      <td>...</td>\n      <td>...</td>\n      <td>...</td>\n      <td>...</td>\n      <td>...</td>\n      <td>...</td>\n      <td>...</td>\n      <td>...</td>\n      <td>...</td>\n      <td>...</td>\n      <td>...</td>\n      <td>...</td>\n      <td>...</td>\n      <td>...</td>\n      <td>...</td>\n      <td>...</td>\n      <td>...</td>\n      <td>...</td>\n      <td>...</td>\n    </tr>\n    <tr>\n      <th>337311</th>\n      <td>亚洲</td>\n      <td>Asia</td>\n      <td>中国</td>\n      <td>China</td>\n      <td>云南省</td>\n      <td>Yunnan</td>\n      <td>530000</td>\n      <td>1</td>\n      <td>0.0</td>\n      <td>0</td>\n      <td>0</td>\n      <td>2020-01-22</td>\n      <td>NaN</td>\n      <td>NaN</td>\n      <td>NaN</td>\n      <td>NaN</td>\n      <td>NaN</td>\n      <td>NaN</td>\n      <td>NaN</td>\n    </tr>\n    <tr>\n      <th>337319</th>\n      <td>亚洲</td>\n      <td>Asia</td>\n      <td>中国</td>\n      <td>China</td>\n      <td>吉林省</td>\n      <td>Jilin</td>\n      <td>220000</td>\n      <td>0</td>\n      <td>1.0</td>\n      <td>0</td>\n      <td>0</td>\n      <td>2020-01-22</td>\n      <td>NaN</td>\n      <td>NaN</td>\n      <td>NaN</td>\n      <td>NaN</td>\n      <td>NaN</td>\n      <td>NaN</td>\n      <td>NaN</td>\n    </tr>\n    <tr>\n      <th>337325</th>\n      <td>亚洲</td>\n      <td>Asia</td>\n      <td>中国</td>\n      <td>China</td>\n      <td>台湾</td>\n      <td>Taiwan</td>\n      <td>710000</td>\n      <td>1</td>\n      <td>0.0</td>\n      <td>0</td>\n      <td>0</td>\n      <td>2020-01-22</td>\n      <td>NaN</td>\n      <td>NaN</td>\n      <td>NaN</td>\n      <td>NaN</td>\n      <td>NaN</td>\n      <td>NaN</td>\n      <td>NaN</td>\n    </tr>\n    <tr>\n      <th>337326</th>\n      <td>亚洲</td>\n      <td>Asia</td>\n      <td>中国</td>\n      <td>Hongkong</td>\n      <td>香港</td>\n      <td>Hongkong</td>\n      <td>810000</td>\n      <td>0</td>\n      <td>117.0</td>\n      <td>0</td>\n      <td>0</td>\n      <td>2020-01-22</td>\n      <td>NaN</td>\n      <td>NaN</td>\n      <td>NaN</td>\n      <td>NaN</td>\n      <td>NaN</td>\n      <td>NaN</td>\n      <td>NaN</td>\n    </tr>\n    <tr>\n      <th>337327</th>\n      <td>亚洲</td>\n      <td>Asia</td>\n      <td>中国</td>\n      <td>China</td>\n      <td>黑龙江省</td>\n      <td>Heilongjiang</td>\n      <td>230000</td>\n      <td>0</td>\n      <td>1.0</td>\n      <td>0</td>\n      <td>0</td>\n      <td>2020-01-22</td>\n      <td>NaN</td>\n      <td>NaN</td>\n      <td>NaN</td>\n      <td>NaN</td>\n      <td>NaN</td>\n      <td>NaN</td>\n      <td>NaN</td>\n    </tr>\n  </tbody>\n</table>\n<p>47561 rows × 19 columns</p>\n</div>"
     },
     "metadata": {},
     "execution_count": 3
    }
   ],
   "source": [
    "# 数据清洗\n",
    "# 根据疫情每日更新时间，和省份这两列来判断重复值，并删除重复值，仅保留第一列数据\n",
    "df.drop_duplicates(subset=['updateTime','provinceName'],keep='first',inplace=True)\n",
    "df"
   ]
  },
  {
   "cell_type": "code",
   "execution_count": 4,
   "metadata": {},
   "outputs": [
    {
     "output_type": "execute_result",
     "data": {
      "text/plain": [
       "0         吉尔吉斯斯坦\n",
       "1             黑山\n",
       "2          瓜德罗普岛\n",
       "3            阿鲁巴\n",
       "4            马约特\n",
       "5         赞比亚共和国\n",
       "6            佛得角\n",
       "7            南苏丹\n",
       "8        美属维尔京群岛\n",
       "9          刚果（布）\n",
       "10         荷属圣马丁\n",
       "11     特克斯和凯科斯群岛\n",
       "12           百慕大\n",
       "13       荷兰加勒比地区\n",
       "14          库拉索岛\n",
       "15         几内亚比绍\n",
       "16         也门共和国\n",
       "17        布隆迪共和国\n",
       "18           科摩罗\n",
       "19         厄立特里亚\n",
       "20     北马里亚纳群岛联邦\n",
       "21        圣巴泰勒米岛\n",
       "22       英属维尔京群岛\n",
       "23          多米尼克\n",
       "24          格林那达\n",
       "25           东帝汶\n",
       "26           格陵兰\n",
       "27        新喀里多尼亚\n",
       "28    圣皮埃尔和密克隆群岛\n",
       "29       圣其茨和尼维斯\n",
       "30         蒙特塞拉特\n",
       "31         福克兰群岛\n",
       "32           安圭拉\n",
       "33           科索沃\n",
       "Name: provinceName, dtype: object"
      ]
     },
     "metadata": {},
     "execution_count": 4
    }
   ],
   "source": [
    "# 查看需要补全英文名的国家，绘制疫情地图时需要，一共需要收集补全34个国家英文名\n",
    "df1 = df[df['provinceEnglishName'].isnull().values==True]\n",
    "df1.drop_duplicates(subset=['provinceName'],keep='first',inplace=True)\n",
    "# df1['provinceName'],df1.shape[0]\n",
    "# 将其导入到另一个数组中\n",
    "df1_provinceName = df1['provinceName']\n",
    "df1_provinceName.reset_index(drop=True,inplace=True)\n",
    "df1_provinceName"
   ]
  },
  {
   "cell_type": "code",
   "execution_count": 5,
   "metadata": {},
   "outputs": [
    {
     "output_type": "execute_result",
     "data": {
      "text/plain": [
       "provinceName\n",
       "吉尔吉斯斯坦                             Kyrgyzstan\n",
       "黑山                                 Montenegro\n",
       "瓜德罗普岛                              Guadeloupe\n",
       "阿鲁巴                                     Aruba\n",
       "马约特                                   Mayotte\n",
       "赞比亚共和国                     Republic of Zambia\n",
       "佛得角                                Cape Verde\n",
       "南苏丹                               South Sudan\n",
       "美属维尔京群岛          United States Virgin Islands\n",
       "刚果（布）                     Congo (Brazzaville)\n",
       "荷属圣马丁                            Sint Maarten\n",
       "特克斯和凯科斯群岛            Turks and Caicos Islands\n",
       "百慕大                                   Bermuda\n",
       "荷兰加勒比地区                 Netherlands Caribbean\n",
       "库拉索岛                           Curacao Island\n",
       "几内亚比绍                           Guinea-Bissau\n",
       "也门共和国                       Republic of Yemen\n",
       "布隆迪共和国                    Republic of Burundi\n",
       "科摩罗                                   Comoros\n",
       "厄立特里亚                                Eritrean\n",
       "北马里亚纳群岛联邦            Saint-Pierre et Miquelon\n",
       "圣巴泰勒米岛                       Saint-Barthelemy\n",
       "英属维尔京群岛                British Virgin Islands\n",
       "多米尼克                                 dominica\n",
       "格林那达                                 Grinnada\n",
       "东帝汶                               Timor-Leste\n",
       "格陵兰                                 Greenland\n",
       "新喀里多尼亚                          New Caledonia\n",
       "圣皮埃尔和密克隆群岛    St. Pierre and Miquelon Islands\n",
       "圣其茨和尼维斯                 Saint Kitts and Nevis\n",
       "蒙特塞拉特                              Montserrat\n",
       "福克兰群岛                               Falklands\n",
       "安圭拉                                  Anguilla\n",
       "科索沃                                    Kosovo\n",
       "Name: provinceEnglishName, dtype: object"
      ]
     },
     "metadata": {},
     "execution_count": 5
    }
   ],
   "source": [
    "df1_provinceEnglishName = pd.Series(['Kyrgyzstan', 'Montenegro', 'Guadeloupe', 'Aruba', 'Mayotte', 'Republic of Zambia', 'Cape Verde', 'South Sudan', 'United States Virgin Islands', 'Congo (Brazzaville)', 'Sint Maarten', 'Turks and Caicos Islands', 'Bermuda', 'Netherlands Caribbean', 'Curacao Island', 'Guinea-Bissau', 'Republic of Yemen', 'Republic of Burundi', 'Comoros', 'Eritrean', 'Saint-Pierre et Miquelon', 'Saint-Barthelemy', 'British Virgin Islands', 'dominica', 'Grinnada', 'Timor-Leste', 'Greenland', 'New Caledonia', 'St. Pierre and Miquelon Islands', 'Saint Kitts and Nevis', 'Montserrat', 'Falklands', 'Anguilla', 'Kosovo'], name= 'provinceEnglishName', index = df1_provinceName)\n",
    "df1_provinceEnglishName\n",
    "# for i in range(len(df1_provinceEnglishName)):\n",
    "#     # df1.iloc[i,3] = df1.iloc[i,5] = df1_provinceEnglishName[df1.iloc[i,4]]\n",
    "#     print(df1_provinceEnglishName.iloc[0,i])\n",
    "# df1\n",
    "\n",
    "# type(df1_provinceEnglishName)\n",
    "# df2 = pd.concat([df1_provinceName, df1_provinceEnglishName],axis=1)\n",
    "# df2\n"
   ]
  },
  {
   "cell_type": "code",
   "execution_count": 6,
   "metadata": {
    "tags": []
   },
   "outputs": [
    {
     "output_type": "execute_result",
     "data": {
      "text/plain": [
       "       continentName continentEnglishName countryName  \\\n",
       "0                北美洲        North America          美国   \n",
       "1                 欧洲               Europe          法国   \n",
       "2                 亚洲                 Asia          印度   \n",
       "3                 欧洲               Europe          英国   \n",
       "4                南美洲        South America          巴西   \n",
       "...              ...                  ...         ...   \n",
       "337311            亚洲                 Asia          中国   \n",
       "337319            亚洲                 Asia          中国   \n",
       "337325            亚洲                 Asia          中国   \n",
       "337326            亚洲                 Asia          中国   \n",
       "337327            亚洲                 Asia          中国   \n",
       "\n",
       "              countryEnglishName provinceName       provinceEnglishName  \\\n",
       "0       United States of America           美国  United States of America   \n",
       "1                         France           法国                    France   \n",
       "2                          India           印度                     India   \n",
       "3                 United Kingdom           英国            United Kingdom   \n",
       "4                         Brazil           巴西                    Brazil   \n",
       "...                          ...          ...                       ...   \n",
       "337311                     China          云南省                    Yunnan   \n",
       "337319                     China          吉林省                     Jilin   \n",
       "337325                     China           台湾                    Taiwan   \n",
       "337326                  Hongkong           香港                  Hongkong   \n",
       "337327                     China         黑龙江省              Heilongjiang   \n",
       "\n",
       "        province_zipCode  province_confirmedCount  province_suspectedCount  \\\n",
       "0                 971002                  8338091                      0.0   \n",
       "1                 961002                   957421                      0.0   \n",
       "2                 953003                  7706946                      0.0   \n",
       "3                 961007                   789229                      0.0   \n",
       "4                 973003                  5300649                      0.0   \n",
       "...                  ...                      ...                      ...   \n",
       "337311            530000                        1                      0.0   \n",
       "337319            220000                        0                      1.0   \n",
       "337325            710000                        1                      0.0   \n",
       "337326            810000                        0                    117.0   \n",
       "337327            230000                        0                      1.0   \n",
       "\n",
       "        province_curedCount  province_deadCount updateTime cityName  \\\n",
       "0                   3323354              222210 2020-10-22      NaN   \n",
       "1                    107652               34048 2020-10-22      NaN   \n",
       "2                   6795103              116616 2020-10-22      NaN   \n",
       "3                       539               44158 2020-10-22      NaN   \n",
       "4                   4721593              155459 2020-10-22      NaN   \n",
       "...                     ...                 ...        ...      ...   \n",
       "337311                    0                   0 2020-01-22      NaN   \n",
       "337319                    0                   0 2020-01-22      NaN   \n",
       "337325                    0                   0 2020-01-22      NaN   \n",
       "337326                    0                   0 2020-01-22      NaN   \n",
       "337327                    0                   0 2020-01-22      NaN   \n",
       "\n",
       "       cityEnglishName  city_zipCode  city_confirmedCount  \\\n",
       "0                  NaN           NaN                  NaN   \n",
       "1                  NaN           NaN                  NaN   \n",
       "2                  NaN           NaN                  NaN   \n",
       "3                  NaN           NaN                  NaN   \n",
       "4                  NaN           NaN                  NaN   \n",
       "...                ...           ...                  ...   \n",
       "337311             NaN           NaN                  NaN   \n",
       "337319             NaN           NaN                  NaN   \n",
       "337325             NaN           NaN                  NaN   \n",
       "337326             NaN           NaN                  NaN   \n",
       "337327             NaN           NaN                  NaN   \n",
       "\n",
       "        city_suspectedCount  city_curedCount  city_deadCount  \n",
       "0                       NaN              NaN             NaN  \n",
       "1                       NaN              NaN             NaN  \n",
       "2                       NaN              NaN             NaN  \n",
       "3                       NaN              NaN             NaN  \n",
       "4                       NaN              NaN             NaN  \n",
       "...                     ...              ...             ...  \n",
       "337311                  NaN              NaN             NaN  \n",
       "337319                  NaN              NaN             NaN  \n",
       "337325                  NaN              NaN             NaN  \n",
       "337326                  NaN              NaN             NaN  \n",
       "337327                  NaN              NaN             NaN  \n",
       "\n",
       "[47561 rows x 19 columns]"
      ],
      "text/html": "<div>\n<style scoped>\n    .dataframe tbody tr th:only-of-type {\n        vertical-align: middle;\n    }\n\n    .dataframe tbody tr th {\n        vertical-align: top;\n    }\n\n    .dataframe thead th {\n        text-align: right;\n    }\n</style>\n<table border=\"1\" class=\"dataframe\">\n  <thead>\n    <tr style=\"text-align: right;\">\n      <th></th>\n      <th>continentName</th>\n      <th>continentEnglishName</th>\n      <th>countryName</th>\n      <th>countryEnglishName</th>\n      <th>provinceName</th>\n      <th>provinceEnglishName</th>\n      <th>province_zipCode</th>\n      <th>province_confirmedCount</th>\n      <th>province_suspectedCount</th>\n      <th>province_curedCount</th>\n      <th>province_deadCount</th>\n      <th>updateTime</th>\n      <th>cityName</th>\n      <th>cityEnglishName</th>\n      <th>city_zipCode</th>\n      <th>city_confirmedCount</th>\n      <th>city_suspectedCount</th>\n      <th>city_curedCount</th>\n      <th>city_deadCount</th>\n    </tr>\n  </thead>\n  <tbody>\n    <tr>\n      <th>0</th>\n      <td>北美洲</td>\n      <td>North America</td>\n      <td>美国</td>\n      <td>United States of America</td>\n      <td>美国</td>\n      <td>United States of America</td>\n      <td>971002</td>\n      <td>8338091</td>\n      <td>0.0</td>\n      <td>3323354</td>\n      <td>222210</td>\n      <td>2020-10-22</td>\n      <td>NaN</td>\n      <td>NaN</td>\n      <td>NaN</td>\n      <td>NaN</td>\n      <td>NaN</td>\n      <td>NaN</td>\n      <td>NaN</td>\n    </tr>\n    <tr>\n      <th>1</th>\n      <td>欧洲</td>\n      <td>Europe</td>\n      <td>法国</td>\n      <td>France</td>\n      <td>法国</td>\n      <td>France</td>\n      <td>961002</td>\n      <td>957421</td>\n      <td>0.0</td>\n      <td>107652</td>\n      <td>34048</td>\n      <td>2020-10-22</td>\n      <td>NaN</td>\n      <td>NaN</td>\n      <td>NaN</td>\n      <td>NaN</td>\n      <td>NaN</td>\n      <td>NaN</td>\n      <td>NaN</td>\n    </tr>\n    <tr>\n      <th>2</th>\n      <td>亚洲</td>\n      <td>Asia</td>\n      <td>印度</td>\n      <td>India</td>\n      <td>印度</td>\n      <td>India</td>\n      <td>953003</td>\n      <td>7706946</td>\n      <td>0.0</td>\n      <td>6795103</td>\n      <td>116616</td>\n      <td>2020-10-22</td>\n      <td>NaN</td>\n      <td>NaN</td>\n      <td>NaN</td>\n      <td>NaN</td>\n      <td>NaN</td>\n      <td>NaN</td>\n      <td>NaN</td>\n    </tr>\n    <tr>\n      <th>3</th>\n      <td>欧洲</td>\n      <td>Europe</td>\n      <td>英国</td>\n      <td>United Kingdom</td>\n      <td>英国</td>\n      <td>United Kingdom</td>\n      <td>961007</td>\n      <td>789229</td>\n      <td>0.0</td>\n      <td>539</td>\n      <td>44158</td>\n      <td>2020-10-22</td>\n      <td>NaN</td>\n      <td>NaN</td>\n      <td>NaN</td>\n      <td>NaN</td>\n      <td>NaN</td>\n      <td>NaN</td>\n      <td>NaN</td>\n    </tr>\n    <tr>\n      <th>4</th>\n      <td>南美洲</td>\n      <td>South America</td>\n      <td>巴西</td>\n      <td>Brazil</td>\n      <td>巴西</td>\n      <td>Brazil</td>\n      <td>973003</td>\n      <td>5300649</td>\n      <td>0.0</td>\n      <td>4721593</td>\n      <td>155459</td>\n      <td>2020-10-22</td>\n      <td>NaN</td>\n      <td>NaN</td>\n      <td>NaN</td>\n      <td>NaN</td>\n      <td>NaN</td>\n      <td>NaN</td>\n      <td>NaN</td>\n    </tr>\n    <tr>\n      <th>...</th>\n      <td>...</td>\n      <td>...</td>\n      <td>...</td>\n      <td>...</td>\n      <td>...</td>\n      <td>...</td>\n      <td>...</td>\n      <td>...</td>\n      <td>...</td>\n      <td>...</td>\n      <td>...</td>\n      <td>...</td>\n      <td>...</td>\n      <td>...</td>\n      <td>...</td>\n      <td>...</td>\n      <td>...</td>\n      <td>...</td>\n      <td>...</td>\n    </tr>\n    <tr>\n      <th>337311</th>\n      <td>亚洲</td>\n      <td>Asia</td>\n      <td>中国</td>\n      <td>China</td>\n      <td>云南省</td>\n      <td>Yunnan</td>\n      <td>530000</td>\n      <td>1</td>\n      <td>0.0</td>\n      <td>0</td>\n      <td>0</td>\n      <td>2020-01-22</td>\n      <td>NaN</td>\n      <td>NaN</td>\n      <td>NaN</td>\n      <td>NaN</td>\n      <td>NaN</td>\n      <td>NaN</td>\n      <td>NaN</td>\n    </tr>\n    <tr>\n      <th>337319</th>\n      <td>亚洲</td>\n      <td>Asia</td>\n      <td>中国</td>\n      <td>China</td>\n      <td>吉林省</td>\n      <td>Jilin</td>\n      <td>220000</td>\n      <td>0</td>\n      <td>1.0</td>\n      <td>0</td>\n      <td>0</td>\n      <td>2020-01-22</td>\n      <td>NaN</td>\n      <td>NaN</td>\n      <td>NaN</td>\n      <td>NaN</td>\n      <td>NaN</td>\n      <td>NaN</td>\n      <td>NaN</td>\n    </tr>\n    <tr>\n      <th>337325</th>\n      <td>亚洲</td>\n      <td>Asia</td>\n      <td>中国</td>\n      <td>China</td>\n      <td>台湾</td>\n      <td>Taiwan</td>\n      <td>710000</td>\n      <td>1</td>\n      <td>0.0</td>\n      <td>0</td>\n      <td>0</td>\n      <td>2020-01-22</td>\n      <td>NaN</td>\n      <td>NaN</td>\n      <td>NaN</td>\n      <td>NaN</td>\n      <td>NaN</td>\n      <td>NaN</td>\n      <td>NaN</td>\n    </tr>\n    <tr>\n      <th>337326</th>\n      <td>亚洲</td>\n      <td>Asia</td>\n      <td>中国</td>\n      <td>Hongkong</td>\n      <td>香港</td>\n      <td>Hongkong</td>\n      <td>810000</td>\n      <td>0</td>\n      <td>117.0</td>\n      <td>0</td>\n      <td>0</td>\n      <td>2020-01-22</td>\n      <td>NaN</td>\n      <td>NaN</td>\n      <td>NaN</td>\n      <td>NaN</td>\n      <td>NaN</td>\n      <td>NaN</td>\n      <td>NaN</td>\n    </tr>\n    <tr>\n      <th>337327</th>\n      <td>亚洲</td>\n      <td>Asia</td>\n      <td>中国</td>\n      <td>China</td>\n      <td>黑龙江省</td>\n      <td>Heilongjiang</td>\n      <td>230000</td>\n      <td>0</td>\n      <td>1.0</td>\n      <td>0</td>\n      <td>0</td>\n      <td>2020-01-22</td>\n      <td>NaN</td>\n      <td>NaN</td>\n      <td>NaN</td>\n      <td>NaN</td>\n      <td>NaN</td>\n      <td>NaN</td>\n      <td>NaN</td>\n    </tr>\n  </tbody>\n</table>\n<p>47561 rows × 19 columns</p>\n</div>"
     },
     "metadata": {},
     "execution_count": 6
    }
   ],
   "source": [
    "# 查看有多少个countryEnglishName无的数据是空缺值还是空值；\n",
    "# 空值：在pandas中的空值是\"\"\n",
    "# 缺失值：在dataframe中为nan或者naT（缺失时间），在series中为none或者nan即可\n",
    "df1 = df[df['provinceEnglishName'].isnull().values==True]\n",
    "\n",
    "# 遍历空缺值数组 - 按行数遍历\n",
    "for i in range(len(df1)):\n",
    "    df1.iloc[i,3] = df1.iloc[i,5] = df1_provinceEnglishName[df1.iloc[i,4]]\n",
    "df1\n",
    "\n",
    "# iloc 性能太差了\n",
    "# for i in range(len(df1)):\n",
    "#     df.loc[df1.iloc[i,0],:] = df1.iloc[i,:]\n",
    "\n",
    "'''\n",
    "小问题：性能改进\n",
    "1. 使用Pandas库中自由度和想象力最高的apply函数;\n",
    "2. intertuples相较于interrow的效率更高，遍历速度更快。\n",
    "\n",
    "'''\n",
    "for i,v in df1.iterrows():\n",
    "    if pd.isnull(df.loc[i,'countryEnglishName']) & pd.isnull(df.loc[i,'provinceEnglishName']):\n",
    "        df.loc[i,'countryEnglishName'] = df.loc[i,'provinceEnglishName'] = df1.loc[i,'countryEnglishName']\n",
    "\n",
    "df\n",
    "\n",
    "# '''\n",
    "# 注意\n",
    "# iterrows()遍历上万行数组后，并修改数据，无法保存最后的结果\n",
    "# iterrows()返回的的只是dataframe的view 而不是copy。所以修改无法保存。\n",
    "# '''\n",
    "# # for index,row in df1.iterrows():\n",
    "# #     # getattr(row,'provinceName')\n",
    "# #     row['provinceEnglishName'] = df1_provinceEnglishName[row['provinceName']]\n",
    "# # df1\n",
    "\n",
    "# '''\n",
    "# # demo\n",
    "# test = {'a':[1,20,20],'b':[2,10,10],'c':[4,14,14],'d':[0,0,0]}\n",
    "# df11= pd.DataFrame(test)\n",
    "# for index,row in df11.iterrows():\n",
    "#     row['d'] = row['a']*0.5 + row['b']*0.4\n",
    "# df11\n",
    "# '''"
   ]
  },
  {
   "cell_type": "code",
   "execution_count": 9,
   "metadata": {},
   "outputs": [
    {
     "output_type": "stream",
     "name": "stdout",
     "text": [
      "<class 'pandas.core.frame.DataFrame'>\nInt64Index: 47561 entries, 0 to 337327\nData columns (total 19 columns):\n #   Column                   Non-Null Count  Dtype         \n---  ------                   --------------  -----         \n 0   continentName            47523 non-null  object        \n 1   continentEnglishName     47523 non-null  object        \n 2   countryName              47561 non-null  object        \n 3   countryEnglishName       47561 non-null  object        \n 4   provinceName             47561 non-null  object        \n 5   provinceEnglishName      47561 non-null  object        \n 6   province_zipCode         47561 non-null  int64         \n 7   province_confirmedCount  47561 non-null  int64         \n 8   province_suspectedCount  47560 non-null  float64       \n 9   province_curedCount      47561 non-null  int64         \n 10  province_deadCount       47561 non-null  int64         \n 11  updateTime               47561 non-null  datetime64[ns]\n 12  cityName                 3214 non-null   object        \n 13  cityEnglishName          2096 non-null   object        \n 14  city_zipCode             3202 non-null   float64       \n 15  city_confirmedCount      3214 non-null   float64       \n 16  city_suspectedCount      3214 non-null   float64       \n 17  city_curedCount          3214 non-null   float64       \n 18  city_deadCount           3214 non-null   float64       \ndtypes: datetime64[ns](1), float64(6), int64(4), object(8)\nmemory usage: 8.3+ MB\n"
     ]
    },
    {
     "output_type": "execute_result",
     "data": {
      "text/plain": [
       "continentName               True\n",
       "continentEnglishName        True\n",
       "countryName                False\n",
       "countryEnglishName         False\n",
       "provinceName               False\n",
       "provinceEnglishName        False\n",
       "province_zipCode           False\n",
       "province_confirmedCount    False\n",
       "province_suspectedCount     True\n",
       "province_curedCount        False\n",
       "province_deadCount         False\n",
       "updateTime                 False\n",
       "cityName                    True\n",
       "cityEnglishName             True\n",
       "city_zipCode                True\n",
       "city_confirmedCount         True\n",
       "city_suspectedCount         True\n",
       "city_curedCount             True\n",
       "city_deadCount              True\n",
       "dtype: bool"
      ]
     },
     "metadata": {},
     "execution_count": 9
    }
   ],
   "source": [
    "# 输出Excel文件进行校验\n",
    "df.to_csv('./out4Test.csv')\n",
    "# df.to_excel('./cleanedData.xlsx')\n",
    "\n",
    "# 清洗后的数据，查看空值\n",
    "df.info()\n",
    "df.isnull().any()"
   ]
  },
  {
   "cell_type": "code",
   "execution_count": 7,
   "metadata": {},
   "outputs": [],
   "source": [
    "date_list = df.drop_duplicates(subset=['updateTime'],keep='first')\n",
    "date_list = date_list[['updateTime']]\n",
    "date_list = date_list.reset_index(drop=True)\n",
    "\n",
    "\n",
    "cyENName_list = df.drop_duplicates(subset=['countryEnglishName'],keep='first')\n",
    "cyENName_list = cyENName_list[['countryEnglishName']].reset_index(drop=True)\n"
   ]
  },
  {
   "cell_type": "code",
   "execution_count": null,
   "metadata": {},
   "outputs": [],
   "source": []
  },
  {
   "cell_type": "code",
   "execution_count": 97,
   "metadata": {},
   "outputs": [],
   "source": [
    "'''\n",
    "pyecharts v0.3.2以后，pyecharts 将不再自带地图 js 文件。如用户需要用到地图图表，可自行安装对应的地图文件包。\n",
    "\n",
    "地图文件被分成了三个 Python 包，分别为：\n",
    "\n",
    "全球国家地图: echarts-countries-pypkg (1.9MB)\n",
    "中国省级地图: echarts-china-provinces-pypkg (730KB)\n",
    "中国市级地图: echarts-china-cities-pypkg (3.8MB)\n",
    "\n",
    "直接使用python的pip安装：\n",
    "\n",
    "选择自己需要的安装的地图\n",
    "    pip install echarts-countries-pypkg\n",
    "    pip install echarts-china-provinces-pypkg\n",
    "    pip install echarts-china-cities-pypkg\n",
    "    pip install echarts-china-counties-pypkg\n",
    "    pip install echarts-china-misc-pypkg\n",
    "    pip install echarts-united-kingdom-pypkg\n",
    "\n",
    "生成图片：\n",
    "\n",
    "$ pip install snapshot-selenium\n",
    "或\n",
    "$ pip install snapshot-phantomjs\n",
    "'''\n",
    "\n",
    "from pyecharts.charts import Map  # 注意这里与老版本pyecharts调用的区别\n",
    "from pyecharts import options as opts\n",
    "\n",
    "# 每个国家地区取最前面的一行数据,并删除其他行\n",
    "df4WorldMap = df.drop_duplicates(subset=['countryEnglishName'], keep='first')\n",
    "# 这一步实际上作用没有发生，但是作用是为了绘制国家地图，提出中国省份\n",
    "df4WorldMap = df4WorldMap[df4WorldMap['countryEnglishName'] == df4WorldMap['provinceEnglishName']]\n",
    "df4WorldMap.replace('United States of America', 'United States',inplace = True)\n",
    "\n",
    "# df4WorldMap = df4WorldMap[['province_confirmedCount', 'countryEnglishName']]\n",
    "# df4WorldMap01 = pd.Series(df4WorldMap['province_confirmedCount'].values, index=df4WorldMap['countryEnglishName'])\n",
    "\n",
    "# # 构建一个list，用于pyecharts库中Map遍历并绘图，方法一\n",
    "countryEnglishName = df4WorldMap['countryEnglishName'].values.tolist()\n",
    "province_confirmedCount = df4WorldMap['province_confirmedCount'].values.tolist()\n",
    "# countryEnglishName\n",
    "\n",
    "# 构建一个list，用于pyecharts库中Map遍历并绘图，方法二，不成功\n",
    "# df4WorldMap01 = [(df4WorldMap.iloc[i,3], df4WorldMap.iloc[i,7]) for i in range(10)]\n",
    "# df4WorldMap01"
   ]
  },
  {
   "cell_type": "code",
   "execution_count": 100,
   "metadata": {},
   "outputs": [],
   "source": [
    "from pyecharts.charts import Map  # 注意这里与老版本pyecharts调用的区别\n",
    "from pyecharts import options as opts\n",
    "import random\n",
    "# country = ['China', 'Canada', 'France', 'Japan', 'Russia', 'USA']\n",
    "# data_world = [(i, random.randint(100, 200)) for i in country]\n",
    "# data_world\n",
    "\n",
    "world = (\n",
    "    Map()\n",
    "    .add('Global Covid-19 Map (# confirmed cases)', # 此处没取名，所以空着\n",
    "        [list(z) for z in zip(countryEnglishName, province_confirmedCount)], # 数据\n",
    "        'world',is_map_symbol_show=False) # 地图类型\n",
    "    # .set_series_opts(label_opts=opts.LabelOpts(is_show=True))\n",
    "    .set_global_opts(\n",
    "        title_opts=opts.TitleOpts(title='World Map'),\n",
    "        visualmap_opts=opts.VisualMapOpts(\n",
    "            max_=5000000,\n",
    "            is_piecewise=True,\n",
    "            pieces=[{\"max\": 100, \"min\": 0, \"label\": \"<=100\",\"color\":\"#FFFFFF\"},\n",
    "                  {\"max\": 10000, \"min\": 100, \"label\": \"100~10000\",\"color\":\"#FFE4E1\"},\n",
    "                  {\"max\": 100000, \"min\": 10000, \"label\": \"10000~100000\",\"color\":\"#FF7F50\"},\n",
    "                  {\"max\": 1000000, \"min\": 100000, \"label\": \"100000~1000000\",\"color\":\"#F08080\"},\n",
    "                  {\"max\": 10000000, \"min\": 1000000, \"label\": \"1000000~10000000\",\"color\":\"#CD5C5C\"},\n",
    "                  {\"max\": 100000000, \"min\": 10000000, \"label\": \">=10000000\", \"color\":\"#8B0000\"}])  # 定义图例为分段型，默认为连续的图例\n",
    "    )\n",
    "    .set_series_opts(label_opts=opts.LabelOpts(is_show=False))\n",
    "    .render(path='世界地图.html')\n",
    ")"
   ]
  },
  {
   "cell_type": "code",
   "execution_count": null,
   "metadata": {},
   "outputs": [],
   "source": []
  }
 ]
}